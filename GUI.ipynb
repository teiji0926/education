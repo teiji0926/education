{
 "cells": [
  {
   "cell_type": "code",
   "execution_count": 1,
   "id": "ddf9acf4",
   "metadata": {},
   "outputs": [],
   "source": [
    "import tkinter as tk\n",
    "from tkinter import scrolledtext, messagebox\n",
    "import requests\n",
    "\n",
    "# APIを呼び出して結果を表示する関数\n",
    "def fetch_courses():\n",
    "    career_goal = entry.get()\n",
    "    if not career_goal:\n",
    "        messagebox.showwarning(\"警告\", \"キャリア目標を入力してください。\")\n",
    "        return\n",
    "\n",
    "    url = f\"https://olumybzbkw5phnjmqiruqtk47q0jltfl.lambda-url.ap-northeast-1.on.aws/?career_goal={career_goal}\"\n",
    "\n",
    "    try:\n",
    "        # APIにリクエストを送信\n",
    "        response = requests.get(url)\n",
    "\n",
    "        # ステータスコードが200でない場合はエラーを表示\n",
    "        if response.status_code != 200:\n",
    "            raise Exception(f\"エラー: {response.status_code}\")\n",
    "\n",
    "        # レスポンスを取得し、表示\n",
    "        data = response.json()\n",
    "        suggestions = data.get('suggestions', '')\n",
    "        \n",
    "        # 出力ウィンドウにクリアして新しい結果を表示\n",
    "        output_text.delete(1.0, tk.END)\n",
    "        output_text.insert(tk.END, suggestions)\n",
    "\n",
    "    except Exception as e:\n",
    "        messagebox.showerror(\"エラー\", f\"リクエストに失敗しました: {str(e)}\")\n",
    "\n",
    "# tkinterのメインウィンドウを作成\n",
    "root = tk.Tk()\n",
    "root.title(\"キャリア目標に基づくコース推薦\")\n",
    "\n",
    "# ウィンドウサイズの設定\n",
    "root.geometry(\"500x600\")\n",
    "\n",
    "# キャリア目標の入力フィールド\n",
    "label = tk.Label(root, text=\"キャリア目標:\", font=(\"Arial\", 12))\n",
    "label.pack(pady=10)\n",
    "\n",
    "entry = tk.Entry(root, width=40, font=(\"Arial\", 12))\n",
    "entry.pack(pady=5)\n",
    "\n",
    "# コースを推薦するボタン\n",
    "fetch_button = tk.Button(root, text=\"コースを推薦する\", command=fetch_courses, font=(\"Arial\", 12), bg=\"#28a745\", fg=\"white\")\n",
    "fetch_button.pack(pady=10)\n",
    "\n",
    "# 出力を表示するスクロールテキスト\n",
    "output_text = scrolledtext.ScrolledText(root, wrap=tk.WORD, width=50, height=20, font=(\"Arial\", 10))\n",
    "output_text.pack(pady=10)\n",
    "\n",
    "# メインループを開始\n",
    "root.mainloop()\n"
   ]
  },
  {
   "cell_type": "code",
   "execution_count": null,
   "id": "56b71edf",
   "metadata": {},
   "outputs": [],
   "source": []
  }
 ],
 "metadata": {
  "kernelspec": {
   "display_name": "Python 3 (ipykernel)",
   "language": "python",
   "name": "python3"
  },
  "language_info": {
   "codemirror_mode": {
    "name": "ipython",
    "version": 3
   },
   "file_extension": ".py",
   "mimetype": "text/x-python",
   "name": "python",
   "nbconvert_exporter": "python",
   "pygments_lexer": "ipython3",
   "version": "3.10.13"
  }
 },
 "nbformat": 4,
 "nbformat_minor": 5
}
